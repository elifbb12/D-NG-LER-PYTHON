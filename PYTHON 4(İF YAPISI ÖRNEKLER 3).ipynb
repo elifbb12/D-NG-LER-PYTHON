{
 "cells": [
  {
   "cell_type": "code",
   "execution_count": null,
   "metadata": {},
   "outputs": [],
   "source": [
    "ps=int(input(\"alacağınız paket sayısını giriniz: \"))\n",
    "toplam=ps*99\n",
    "if ps>=10 and ps<19:\n",
    "    indirim=toplam*0.10\n",
    "    odenecek=toplam-indirim\n",
    "    print(\"toplam paket tutarınız: \", toplam ,\"indirimli fiyatı: \",odenecek)\n",
    "elif ps>=20 and ps<49:\n",
    "    indirim=toplam*0.20\n",
    "    odenecek=toplam-indirim\n",
    "    print(\"toplam paket tutarınız: \", toplam ,\"indirimli fiyatı: \",odenecek)\n",
    "elif ps>=50 and ps<99:\n",
    "    indirim=toplam*0.30\n",
    "    odenecek=toplam-indirim\n",
    "    print(\"toplam paket tutarınız: \", toplam ,\"indirimli fiyatı: \",odenecek)\n",
    "elif ps>=100:\n",
    "    indirim=toplam*0.40\n",
    "    odenecek=toplam-indirim\n",
    "    print(\"toplam paket tutarınız: \", toplam ,\"indirimli fiyatı: \",odenecek)\n",
    "else:\n",
    "    print(\"yeterli paket sayısı girmediniz.En az 10 tane alabilirsiniz\")"
   ]
  },
  {
   "cell_type": "code",
   "execution_count": 6,
   "metadata": {},
   "outputs": [
    {
     "name": "stdout",
     "output_type": "stream",
     "text": [
      "~~KÜTLE-BOY İNDEKSİ HESAPLAMA~~\n",
      "kilonuzu giriniz: 300\n",
      "boyunuzu giriniz(cm): 165\n",
      "zayıfsınız\n"
     ]
    }
   ],
   "source": [
    "print(\"~~KÜTLE-BOY İNDEKSİ HESAPLAMA~~\")\n",
    "kilo=float(input(\"kilonuzu giriniz: \"))\n",
    "boy=float(input(\"boyunuzu giriniz(cm): \"))\n",
    "index=(kilo*703)/(boy**2)\n",
    "if index<18.5 :\n",
    "    print(\"zayıfsınız\")\n",
    "elif index>=18.5 and index<=25:\n",
    "    print(\"ideal kilodasınız\")\n",
    "elif index>25:\n",
    "    print(\"kilolusunuz\")\n"
   ]
  },
  {
   "cell_type": "code",
   "execution_count": 16,
   "metadata": {},
   "outputs": [
    {
     "name": "stdout",
     "output_type": "stream",
     "text": [
      "SANİYE CİNSİNDEN DAKİKA-SAAT-GÜN HESABI\n",
      "saniyeyi giriniz: 90000\n",
      "dakika: 1500 saat: 25 gün:  1\n"
     ]
    }
   ],
   "source": [
    "print(\"SANİYE CİNSİNDEN DAKİKA-SAAT-GÜN HESABI\")\n",
    "saniye=float(input(\"saniyeyi giriniz: \"))\n",
    "dakika=int(saniye/60)\n",
    "saat=int(saniye/3600)\n",
    "gün=int(saniye/86400)\n",
    "if saniye<=3600:\n",
    "    print(\"dakika: \",dakika )\n",
    "elif saniye>3600 and saniye<86400:\n",
    "    print(\"dakika:\",dakika ,  \"saat:\",saat)\n",
    "elif saniye>=86400:\n",
    "    print(\"dakika:\",dakika, \"saat:\",saat , \"gün: \" , gün)\n"
   ]
  },
  {
   "cell_type": "code",
   "execution_count": 17,
   "metadata": {},
   "outputs": [
    {
     "ename": "SyntaxError",
     "evalue": "unexpected EOF while parsing (<ipython-input-17-8280f4a0eb8d>, line 4)",
     "output_type": "error",
     "traceback": [
      "\u001b[1;36m  File \u001b[1;32m\"<ipython-input-17-8280f4a0eb8d>\"\u001b[1;36m, line \u001b[1;32m4\u001b[0m\n\u001b[1;33m    \u001b[0m\n\u001b[1;37m    ^\u001b[0m\n\u001b[1;31mSyntaxError\u001b[0m\u001b[1;31m:\u001b[0m unexpected EOF while parsing\n"
     ]
    }
   ],
   "source": [
    "yıl=int(input(\"bir yıl giriniz\"))\n",
    "if yıl%10==0 :\n",
    "    if yıl%4==0:\n",
    "        "
   ]
  },
  {
   "cell_type": "code",
   "execution_count": 25,
   "metadata": {},
   "outputs": [
    {
     "ename": "SyntaxError",
     "evalue": "invalid syntax (<ipython-input-25-d45ba5ca52e5>, line 5)",
     "output_type": "error",
     "traceback": [
      "\u001b[1;36m  File \u001b[1;32m\"<ipython-input-25-d45ba5ca52e5>\"\u001b[1;36m, line \u001b[1;32m5\u001b[0m\n\u001b[1;33m    else:\u001b[0m\n\u001b[1;37m    ^\u001b[0m\n\u001b[1;31mSyntaxError\u001b[0m\u001b[1;31m:\u001b[0m invalid syntax\n"
     ]
    }
   ],
   "source": [
    "problem=input(\"did that fix the problem?(yes or no)\")\n",
    "if problem==no:\n",
    "    print(\"reboot the computer and try to connect\")\n",
    "    input(\"did that fix the problem?(yes or no)\")\n",
    "    else:\n",
    "        print(\"okey\")\n",
    "        if problem==no:\n",
    "        print(\"make sure the cables between the router and modem are pluggedin firmly\")\n",
    "        input(\"did that fix the problem?(yes or no)\")\n",
    "            else:\n",
    "            print(\"okey\")\n",
    "                if problem==no:\n",
    "            print(\"move the router to a new location and try to connect\")\n",
    "            input(\"did that fix the problem?(yes or no)\")\n",
    "        \n",
    "                    else:\n",
    "            print(\"get a new router\")\n",
    "            \n",
    "else:\n",
    "    print(\"okey\")\n"
   ]
  },
  {
   "cell_type": "code",
   "execution_count": 30,
   "metadata": {},
   "outputs": [
    {
     "name": "stdout",
     "output_type": "stream",
     "text": [
      "vejeteryan mısın?(evet yada hayır)evet\n",
      "vegan mısın?(evet yada hayır)evet\n",
      "gluten rahatsızlığın var mı?(evet yada hayır)evet\n"
     ]
    },
    {
     "ename": "NameError",
     "evalue": "name 'evet' is not defined",
     "output_type": "error",
     "traceback": [
      "\u001b[1;31m---------------------------------------------------------------------------\u001b[0m",
      "\u001b[1;31mNameError\u001b[0m                                 Traceback (most recent call last)",
      "\u001b[1;32m<ipython-input-30-606e210783d5>\u001b[0m in \u001b[0;36m<module>\u001b[1;34m\u001b[0m\n\u001b[0;32m      2\u001b[0m \u001b[0mvegan\u001b[0m\u001b[1;33m=\u001b[0m\u001b[0minput\u001b[0m\u001b[1;33m(\u001b[0m\u001b[1;34m\"vegan mısın?(evet yada hayır)\"\u001b[0m\u001b[1;33m)\u001b[0m\u001b[1;33m\u001b[0m\u001b[1;33m\u001b[0m\u001b[0m\n\u001b[0;32m      3\u001b[0m \u001b[0mgluten\u001b[0m\u001b[1;33m=\u001b[0m\u001b[0minput\u001b[0m\u001b[1;33m(\u001b[0m\u001b[1;34m\"gluten rahatsızlığın var mı?(evet yada hayır)\"\u001b[0m\u001b[1;33m)\u001b[0m\u001b[1;33m\u001b[0m\u001b[1;33m\u001b[0m\u001b[0m\n\u001b[1;32m----> 4\u001b[1;33m \u001b[1;32mif\u001b[0m \u001b[0mvejeteryan\u001b[0m\u001b[1;33m==\u001b[0m\u001b[0mevet\u001b[0m \u001b[1;32mor\u001b[0m \u001b[0mvegan\u001b[0m\u001b[1;33m==\u001b[0m\u001b[0mevet\u001b[0m \u001b[1;32mor\u001b[0m \u001b[0mgluten\u001b[0m\u001b[1;33m==\u001b[0m\u001b[0mevet\u001b[0m\u001b[1;33m:\u001b[0m\u001b[1;33m\u001b[0m\u001b[1;33m\u001b[0m\u001b[0m\n\u001b[0m\u001b[0;32m      5\u001b[0m     \u001b[0mprint\u001b[0m\u001b[1;33m(\u001b[0m\u001b[1;34m\"Corner Café, ve The Chef’s Kitchen \"\u001b[0m\u001b[1;33m)\u001b[0m\u001b[1;33m\u001b[0m\u001b[1;33m\u001b[0m\u001b[0m\n\u001b[0;32m      6\u001b[0m \u001b[1;32melif\u001b[0m \u001b[0mvejeteryan\u001b[0m\u001b[1;33m==\u001b[0m\u001b[0mhayır\u001b[0m \u001b[1;32mor\u001b[0m \u001b[0mvegan\u001b[0m\u001b[1;33m==\u001b[0m\u001b[0mevet\u001b[0m \u001b[1;32mor\u001b[0m \u001b[0mgluten\u001b[0m\u001b[1;33m==\u001b[0m\u001b[0mevet\u001b[0m\u001b[1;33m:\u001b[0m\u001b[1;33m\u001b[0m\u001b[1;33m\u001b[0m\u001b[0m\n",
      "\u001b[1;31mNameError\u001b[0m: name 'evet' is not defined"
     ]
    }
   ],
   "source": [
    "vejeteryan=input(\"vejeteryan mısın?(evet yada hayır)\")\n",
    "vegan=input(\"vegan mısın?(evet yada hayır)\")\n",
    "gluten=input(\"gluten rahatsızlığın var mı?(evet yada hayır)\")\n",
    "if vejeteryan==evet or vegan==evet or gluten==evet:\n",
    "    print(\"Corner Café, ve The Chef’s Kitchen \")\n",
    "elif vejeteryan==hayır or vegan==evet or gluten==evet:\n",
    "    print(\"Corner Café ve The Chef’s Kitchen\")\n",
    "elif vejeteryan==hayır or vegan==hayır or gluten==evet:\n",
    "    print(\"Main Street Pizza Company,Corner Café,Mama’s Fine Italian,The Chef’s Kitchen\")\n",
    "elif vejeteryan==hayır or vegan==hayır or gluten==hayır:\n",
    "    print(\"Joe’s Gourmet Burgers,Main Street Pizza Company,Mama’s Fine Italian\")\n",
    "elif vejeteryan==hayır or vegan==evet or gluten==hayır:\n",
    "    print(\"Joe’s Gourmet Burgers,Main Street Pizza Company,Mama’s Fine Italian\")\n",
    "elif vejeteryan==evet or vegan==hayır or gluten==evet:\n",
    "    print(\"Joe’s Gourmet Burgers,Main Street Pizza Company,Mama’s Fine Italian\")\n",
    "else:\n",
    "    print(\"yazım hatası\")\n",
    "\n",
    "    "
   ]
  }
 ],
 "metadata": {
  "kernelspec": {
   "display_name": "Python 3",
   "language": "python",
   "name": "python3"
  },
  "language_info": {
   "codemirror_mode": {
    "name": "ipython",
    "version": 3
   },
   "file_extension": ".py",
   "mimetype": "text/x-python",
   "name": "python",
   "nbconvert_exporter": "python",
   "pygments_lexer": "ipython3",
   "version": "3.8.3"
  }
 },
 "nbformat": 4,
 "nbformat_minor": 4
}
