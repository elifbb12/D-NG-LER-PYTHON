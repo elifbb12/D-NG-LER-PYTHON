{
 "cells": [
  {
   "cell_type": "code",
   "execution_count": null,
   "metadata": {},
   "outputs": [],
   "source": [
    "devam='e'\n",
    "while devam=='e':\n",
    "fiyat=float(input(\"fiyatı giriniz: \"))\n",
    "    indirimli=fiyat-fiyat*0.25\n",
    "    print(\" ürünün indirimli fiyatı: \" , format(indirimli , '.2f'))\n",
    "    devam=input(\"devam etmek istiyor musunuz?(e yada h)\")\n",
    "    "
   ]
  },
  {
   "cell_type": "code",
   "execution_count": 31,
   "metadata": {},
   "outputs": [
    {
     "name": "stdout",
     "output_type": "stream",
     "text": [
      "cismin sıcaklığını giriniz: 100\n",
      "sıcaklık normale döndü\n",
      "15 dk sonra tekrar ölçünüz\n"
     ]
    }
   ],
   "source": [
    "maks=102.5\n",
    "sicaklik=float(input(\"cismin sıcaklığını giriniz: \"))\n",
    "\n",
    "while sicaklik>maks:\n",
    "    print(\"sıcaklık çok fazla\")\n",
    "    print(\"5 dakika sonra tekrar ölçünüz\")\n",
    "    sicaklik=float(input(\"cismin sıcaklığını giriniz: \"))#döngüden çıkıp çıkmayacağını bu adım belirler.\n",
    "print(\"sıcaklık normale döndü\")#döngüden çıktığını belirtmek içinde while aynı hizada yazılmalı.\n",
    "print(\"15 dk sonra tekrar ölçünüz\")\n",
    "   \n"
   ]
  },
  {
   "cell_type": "code",
   "execution_count": null,
   "metadata": {},
   "outputs": [],
   "source": [
    "sayac=10\n",
    "while sayac==10: #sonsuz döngüye girer.\n",
    "    print(\"hello\")"
   ]
  }
 ],
 "metadata": {
  "kernelspec": {
   "display_name": "Python 3",
   "language": "python",
   "name": "python3"
  },
  "language_info": {
   "codemirror_mode": {
    "name": "ipython",
    "version": 3
   },
   "file_extension": ".py",
   "mimetype": "text/x-python",
   "name": "python",
   "nbconvert_exporter": "python",
   "pygments_lexer": "ipython3",
   "version": "3.8.3"
  }
 },
 "nbformat": 4,
 "nbformat_minor": 4
}
