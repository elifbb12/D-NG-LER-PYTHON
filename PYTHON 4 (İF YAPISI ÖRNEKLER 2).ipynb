{
 "cells": [
  {
   "cell_type": "code",
   "execution_count": 1,
   "metadata": {},
   "outputs": [
    {
     "name": "stdout",
     "output_type": "stream",
     "text": [
      "bir renk seçiniz\n",
      " 1-kırmızı\n",
      " 2- mavi\n",
      " 3-sarısarı\n",
      "ikinci rengi giriniz\n",
      " 1-kırmızı\n",
      " 2- mavi\n",
      " 3- sarıkırmızı\n"
     ]
    }
   ],
   "source": [
    "renk1= input(\"bir renk seçiniz\\n 1-kırmızı\\n 2- mavi\\n 3-sarı\")\n",
    "renk2=input(\"ikinci rengi giriniz\\n 1-kırmızı\\n 2- mavi\\n 3- sarı\")"
   ]
  },
  {
   "cell_type": "code",
   "execution_count": null,
   "metadata": {},
   "outputs": [],
   "source": [
    "#hot dog"
   ]
  },
  {
   "cell_type": "code",
   "execution_count": 9,
   "metadata": {},
   "outputs": [
    {
     "name": "stdout",
     "output_type": "stream",
     "text": [
      "cep numarasını giriniz: 36\n",
      "hatalı sayı girişi yaptınız\n"
     ]
    }
   ],
   "source": [
    "cepno=int(input(\"cep numarasını giriniz: \"))\n",
    "if cepno==1:\n",
    "    print(\"yeşil\")\n",
    "elif cepno>1 and cepno<10:\n",
    "    if cepno%2==0:\n",
    "        print(\"siyah\")\n",
    "    else:\n",
    "        print(\"beyaz\")\n",
    "elif cepno>11 and cepno<18:\n",
    "    if cepno%2==0:\n",
    "        print(\"mavi\")\n",
    "    else:\n",
    "        print(\"pembe\")\n",
    "elif cepno>19 and cepno<28:\n",
    "    if cepno%2==0:\n",
    "        print(\"turuncu\")\n",
    "    else:\n",
    "        print(\"mor\")\n",
    "elif cepno>29 and cepno<36:\n",
    "    if cepno%2==0:\n",
    "        print(\"kırmızı\")\n",
    "    else:\n",
    "        print(\"kahverengi\")\n",
    "else:\n",
    "    print(\"hatalı sayı girişi yaptınız\")\n"
   ]
  },
  {
   "cell_type": "code",
   "execution_count": null,
   "metadata": {},
   "outputs": [],
   "source": [
    "print(\"oyuna hoş geldiniz\")\n",
    "print(\"sadece 10 kr ve 25 kr atabilirsiniz\")\n",
    "print(\"toplam tam 1 tl olacak olursa 1 tl kazanacaksın\")\n",
    "float(input(\"para atınız\"))\n"
   ]
  }
 ],
 "metadata": {
  "kernelspec": {
   "display_name": "Python 3",
   "language": "python",
   "name": "python3"
  },
  "language_info": {
   "codemirror_mode": {
    "name": "ipython",
    "version": 3
   },
   "file_extension": ".py",
   "mimetype": "text/x-python",
   "name": "python",
   "nbconvert_exporter": "python",
   "pygments_lexer": "ipython3",
   "version": "3.8.3"
  }
 },
 "nbformat": 4,
 "nbformat_minor": 4
}
