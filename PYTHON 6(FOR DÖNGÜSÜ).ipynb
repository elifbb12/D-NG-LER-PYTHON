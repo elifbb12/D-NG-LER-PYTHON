{
 "cells": [
  {
   "cell_type": "code",
   "execution_count": 5,
   "metadata": {},
   "outputs": [
    {
     "name": "stdout",
     "output_type": "stream",
     "text": [
      "1\n",
      "2\n",
      "3\n",
      "4\n",
      "5\n",
      "6\n",
      "7\n",
      "8\n",
      "9\n",
      "10\n"
     ]
    }
   ],
   "source": [
    "#1 den 10 a kadar olan sayıları yazdıralım\n",
    "for sayilar in [1,2,3,4,5,6,7,8,9,10]:\n",
    "    print(sayilar)"
   ]
  },
  {
   "cell_type": "code",
   "execution_count": 12,
   "metadata": {},
   "outputs": [
    {
     "name": "stdout",
     "output_type": "stream",
     "text": [
      "elif\n",
      "esma\n",
      "merve\n"
     ]
    }
   ],
   "source": [
    "#isimleri yazdıralım\n",
    "for isim in [\"elif\",\"esma\",\"merve\"]:\n",
    "    print(isim)"
   ]
  },
  {
   "cell_type": "code",
   "execution_count": 14,
   "metadata": {},
   "outputs": [
    {
     "name": "stdout",
     "output_type": "stream",
     "text": [
      "0\n",
      "1\n",
      "2\n",
      "3\n",
      "4\n",
      "5\n",
      "6\n",
      "7\n"
     ]
    }
   ],
   "source": [
    "for sayilar in range(8): #yazdırmaya sıfırdan başlar.Range yapısı girdiği sayıdan 1 eksik yazdırır.\n",
    "    print(sayilar)"
   ]
  },
  {
   "cell_type": "code",
   "execution_count": 16,
   "metadata": {},
   "outputs": [
    {
     "name": "stdout",
     "output_type": "stream",
     "text": [
      "hello\n",
      "hello\n",
      "hello\n",
      "hello\n",
      "hello\n"
     ]
    }
   ],
   "source": [
    "for x in range(5):\n",
    "    print(\"hello\")"
   ]
  },
  {
   "cell_type": "code",
   "execution_count": 45,
   "metadata": {},
   "outputs": [
    {
     "name": "stdout",
     "output_type": "stream",
     "text": [
      "1\n",
      "2\n",
      "3\n",
      "4\n",
      "~~~~~~~~~~~~\n",
      "1\n",
      "3\n",
      "5\n",
      "7\n",
      "9\n",
      "11\n",
      "13\n",
      "15\n",
      "17\n",
      "19\n",
      "~~~~~~~~~~~~\n",
      "10\n",
      "9\n",
      "8\n",
      "7\n",
      "6\n",
      "5\n",
      "4\n",
      "3\n",
      "2\n",
      "1\n"
     ]
    }
   ],
   "source": [
    "for sayi in range(1,5):\n",
    "    print(sayi)\n",
    "print(\"~~~~~~~~~~~~\")\n",
    "for sayi1 in range(1,20,2):\n",
    "    print(sayi1)\n",
    "print(\"~~~~~~~~~~~~\")\n",
    "for sayi2 in range(10,0,-1): #geriye sayar.\n",
    "    print(sayi2)\n",
    "\n"
   ]
  },
  {
   "cell_type": "code",
   "execution_count": 28,
   "metadata": {},
   "outputs": [
    {
     "name": "stdout",
     "output_type": "stream",
     "text": [
      "SAYI \t KARESİ\n",
      "~~~~~~~~~~~~~~~~\n",
      "1 \t 1\n",
      "2 \t 4\n",
      "3 \t 9\n",
      "4 \t 16\n",
      "5 \t 25\n",
      "6 \t 36\n",
      "7 \t 49\n",
      "8 \t 64\n",
      "9 \t 81\n",
      "10 \t 100\n"
     ]
    }
   ],
   "source": [
    "print(\"SAYI \\t KARESİ\")\n",
    "print(\"~~~~~~~~~~~~~~~~\")\n",
    "for sayi in range(1,11):\n",
    "    karesi=sayi**2\n",
    "    print(sayi , '\\t',karesi)\n",
    "    "
   ]
  },
  {
   "cell_type": "code",
   "execution_count": 30,
   "metadata": {},
   "outputs": [
    {
     "name": "stdout",
     "output_type": "stream",
     "text": [
      "MPH-KPH HESAPLAMA\n",
      "KPH \t MPH\n",
      "---------------\n",
      "10 \t 6.21\n",
      "20 \t 12.43\n",
      "30 \t 18.64\n",
      "40 \t 24.86\n",
      "50 \t 31.07\n",
      "60 \t 37.28\n",
      "70 \t 43.50\n",
      "80 \t 49.71\n",
      "90 \t 55.93\n",
      "100 \t 62.14\n",
      "110 \t 68.35\n",
      "120 \t 74.57\n"
     ]
    }
   ],
   "source": [
    "print(\"MPH-KPH HESAPLAMA\")\n",
    "print(\"KPH \\t MPH\")\n",
    "sabit=0.6214\n",
    "print(\"---------------\")\n",
    "for kph in range(10,130,10):\n",
    "    mph=format(kph*sabit, '.2f')\n",
    "    print(kph, '\\t', mph)\n",
    "    "
   ]
  },
  {
   "cell_type": "code",
   "execution_count": 40,
   "metadata": {},
   "outputs": [
    {
     "name": "stdout",
     "output_type": "stream",
     "text": [
      "bir sayı giriniz:  12\n",
      "1\n",
      "2\n",
      "3\n",
      "4\n",
      "5\n",
      "6\n",
      "7\n",
      "8\n",
      "9\n",
      "10\n",
      "11\n",
      "12\n"
     ]
    }
   ],
   "source": [
    "#kullanıcının belirlediği sayıya kadar yazdıran program\n",
    "sayi=int(input(\"bir sayı giriniz:  \"))\n",
    "for liste in range(1,sayi+1):\n",
    "    print(liste)"
   ]
  },
  {
   "cell_type": "code",
   "execution_count": 42,
   "metadata": {},
   "outputs": [
    {
     "name": "stdout",
     "output_type": "stream",
     "text": [
      "başlangıç sayıyı giriniz: 1\n",
      "son sayıyı giriniz: 10\n",
      "SAYI \t KARESİ\n",
      "~~~~~~~~~~~~~~~~\n",
      "1 \t 1\n",
      "2 \t 4\n",
      "3 \t 9\n",
      "4 \t 16\n",
      "5 \t 25\n",
      "6 \t 36\n",
      "7 \t 49\n",
      "8 \t 64\n",
      "9 \t 81\n",
      "10 \t 100\n"
     ]
    }
   ],
   "source": [
    "#kullanıcının belirlediği aralıkta yazdıran program\n",
    "baslangic=int(input(\"başlangıç sayıyı giriniz: \"))\n",
    "son=int(input(\"son sayıyı giriniz: \"))\n",
    "print(\"SAYI \\t KARESİ\")\n",
    "print(\"~~~~~~~~~~~~~~~~\")\n",
    "for sayi in range(baslangic,son+1):\n",
    "    karesi=sayi**2\n",
    "    print(sayi, '\\t', karesi)\n"
   ]
  },
  {
   "cell_type": "code",
   "execution_count": 57,
   "metadata": {},
   "outputs": [
    {
     "name": "stdout",
     "output_type": "stream",
     "text": [
      "toplanacak sayıları giriniz: 1\n",
      "1\n",
      "toplanacak sayıları giriniz: 1\n",
      "2\n",
      "toplanacak sayıları giriniz: 1\n",
      "3\n",
      "toplanacak sayıları giriniz: 1\n",
      "4\n",
      "toplanacak sayıları giriniz: 1\n",
      "5\n",
      "sayıların toplamı:  5\n"
     ]
    }
   ],
   "source": [
    "#kullanıcının girdiği sayı aralığındaki sayıları yazdıran ve toplayan program\n",
    "sayi_adedi=5\n",
    "toplam=0\n",
    "for sayi in range(sayi_adedi):\n",
    "    sec=int(input(\"toplanacak sayıları giriniz: \"))\n",
    "    toplam=toplam+sec\n",
    "    print(toplam)\n",
    "print(\"sayıların toplamı: \",toplam)\n",
    "    "
   ]
  },
  {
   "cell_type": "code",
   "execution_count": 62,
   "metadata": {},
   "outputs": [
    {
     "name": "stdout",
     "output_type": "stream",
     "text": [
      "kaç farklı ürünün fiyatı hesaplanacak?: 2\n",
      "ürünün fiyatını giriniz: 36\n",
      "90.0\n",
      "ürünün fiyatını giriniz: 25\n",
      "62.5\n"
     ]
    }
   ],
   "source": [
    "girilecek=int(input(\"kaç farklı ürünün fiyatı hesaplanacak?: \"))\n",
    "for sayi in range (girilecek):\n",
    "    fiyat=float(input(\"ürünün fiyatını giriniz: \"))\n",
    "    parekende=(fiyat*2.5 )\n",
    "    print(parekende)\n",
    "    "
   ]
  },
  {
   "cell_type": "code",
   "execution_count": 71,
   "metadata": {},
   "outputs": [],
   "source": [
    "\n",
    "#for saat in range(24):\n",
    "    #for dakika in range(60):\n",
    "        #for saniye in range(60):\n",
    "            #print(saat,\":\", dakika, \":\", saniye)\n"
   ]
  },
  {
   "cell_type": "code",
   "execution_count": 75,
   "metadata": {},
   "outputs": [
    {
     "name": "stdout",
     "output_type": "stream",
     "text": [
      "öğrenci sayısını giriniz: 2\n",
      "sınav sayısını giriniz: 2\n",
      "sınav sayısı 1\n",
      "puanı giriniz: 12\n",
      "sınav sayısı 2\n",
      "puanı giriniz: 12\n",
      "ortalama:  12.0\n"
     ]
    }
   ],
   "source": [
    "toplam=0\n",
    "ogrenci=int(input(\"öğrenci sayısını giriniz: \"))\n",
    "sinav_sayisi=int(input(\"sınav sayısını giriniz: \"))\n",
    " \n",
    "for test in range(sinav_sayisi):\n",
    "    print(\"sınav sayısı\", test+1)\n",
    "    puan=float(input(\"puanı giriniz: \"))\n",
    "    toplam+=puan\n",
    "ortalama=toplam/sinav_sayisi\n",
    "print(\"ortalama: \",ortalama)\n",
    "   \n",
    "    \n",
    "\n"
   ]
  }
 ],
 "metadata": {
  "kernelspec": {
   "display_name": "Python 3",
   "language": "python",
   "name": "python3"
  },
  "language_info": {
   "codemirror_mode": {
    "name": "ipython",
    "version": 3
   },
   "file_extension": ".py",
   "mimetype": "text/x-python",
   "name": "python",
   "nbconvert_exporter": "python",
   "pygments_lexer": "ipython3",
   "version": "3.8.3"
  }
 },
 "nbformat": 4,
 "nbformat_minor": 4
}
