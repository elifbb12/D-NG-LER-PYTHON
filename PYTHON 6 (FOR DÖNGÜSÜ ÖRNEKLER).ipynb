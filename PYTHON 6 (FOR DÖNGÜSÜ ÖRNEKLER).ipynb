{
 "cells": [
  {
   "cell_type": "code",
   "execution_count": 15,
   "metadata": {},
   "outputs": [
    {
     "name": "stdout",
     "output_type": "stream",
     "text": [
      "bir sayı giriniz:5\n",
      "SAYI \t 10 İLE ÇARPIMI\n",
      "~~~~~~~~~~~~~~~~~~~~~~~~\n",
      "0 \t 0\n",
      "1 \t 10\n",
      "2 \t 20\n",
      "3 \t 30\n",
      "4 \t 40\n",
      "5 \t 50\n"
     ]
    }
   ],
   "source": [
    "kullanici=int(input(\"bir sayı giriniz:\"))\n",
    "print(\"SAYI \\t 10 İLE ÇARPIMI\")\n",
    "print(\"~~~~~~~~~~~~~~~~~~~~~~~~\")\n",
    "for sayi in range(kullanici+1):\n",
    "    carpim=sayi*10\n",
    "    print(sayi, '\\t', carpim)\n"
   ]
  },
  {
   "cell_type": "code",
   "execution_count": null,
   "metadata": {},
   "outputs": [],
   "source": [
    "devam='e'\n",
    "while devam=='e':\n",
    "    sayi1=float(input(\"1.sayıyı giriniz: \"))\n",
    "    sayi2=float(input(\"2.sayıyı giriniz: \"))\n",
    "    toplam=sayi1+sayi2\n",
    "    print(\"toplam: \",toplam)\n",
    "    devam=input(\"devam etmek istiyor musunuz?\")\n",
    "\n",
    "    \n",
    "\n",
    "    "
   ]
  },
  {
   "cell_type": "code",
   "execution_count": 95,
   "metadata": {},
   "outputs": [
    {
     "ename": "SyntaxError",
     "evalue": "invalid syntax (<ipython-input-95-87c8751bdbb2>, line 2)",
     "output_type": "error",
     "traceback": [
      "\u001b[1;36m  File \u001b[1;32m\"<ipython-input-95-87c8751bdbb2>\"\u001b[1;36m, line \u001b[1;32m2\u001b[0m\n\u001b[1;33m    print(sayi):\u001b[0m\n\u001b[1;37m                ^\u001b[0m\n\u001b[1;31mSyntaxError\u001b[0m\u001b[1;31m:\u001b[0m invalid syntax\n"
     ]
    }
   ],
   "source": [
    "for sayi in range(0,1001,10):\n",
    "    print(sayi)"
   ]
  },
  {
   "cell_type": "code",
   "execution_count": null,
   "metadata": {},
   "outputs": [],
   "source": [
    "#girilen 10 sayının toplamını bulan program\n",
    "toplam=0\n",
    "\n",
    "for top in range(10):\n",
    "    sayi=float(input(\"sayı giriniz: \"))\n",
    "    toplam+=sayi\n",
    "    print(\"sayıların toplamı: \", toplam)"
   ]
  },
  {
   "cell_type": "code",
   "execution_count": 46,
   "metadata": {},
   "outputs": [
    {
     "name": "stdout",
     "output_type": "stream",
     "text": [
      "sıfırdan farklı pozitif bir sayı giriniz: 12\n",
      "sayı sıfırdan farklı ve pozitiftir.\n",
      "sıfırdan farklı pozitif bir sayı giriniz: 333\n",
      "sayı sıfırdan farklı ve pozitiftir.\n",
      "sıfırdan farklı pozitif bir sayı giriniz: -0\n",
      "SAYI SIFIR VEYA NEGATİF BİR SAYI\n"
     ]
    }
   ],
   "source": [
    "#Kullanıcıdan sıfır olmayan pozitif bir sayı girmesini ve girişi doğrulamasını isteyen kodu yazın.\n",
    "sayi= int(input(\"sıfırdan farklı pozitif bir sayı giriniz: \"))\n",
    "while sayi>0:\n",
    "    print(\"sayı sıfırdan farklı ve pozitiftir.\")\n",
    "    sayi= int(input(\"sıfırdan farklı pozitif bir sayı giriniz: \"))\n",
    "  \n",
    "    \n",
    "print(\"SAYI SIFIR VEYA NEGATİF BİR SAYI\")"
   ]
  },
  {
   "cell_type": "code",
   "execution_count": 54,
   "metadata": {},
   "outputs": [
    {
     "name": "stdout",
     "output_type": "stream",
     "text": [
      "1 ile 100 arasında bir sayı giriniz-9\n",
      "GEÇERLİ ARALIKTA BİR SAYI GİRİNİZ.\n",
      "1 ile 100 arasında bir sayı giriniz120\n"
     ]
    }
   ],
   "source": [
    "sayi=int(input(\"1 ile 100 arasında bir sayı giriniz\"))\n",
    "while sayi>1 and sayi<100:\n",
    "    print(\"1 ile 100 arasında bir sayı girdiniz.Tebrikler!\")\n",
    "    sayi=int(input(\"1 ile 100 arasında bir sayı giriniz\"))\n",
    "    \n",
    "    \n",
    "print(\"GEÇERLİ ARALIKTA BİR SAYI GİRİNİZ.\")\n",
    "sayi=int(input(\"1 ile 100 arasında bir sayı giriniz\"))\n",
    "#HATALI^#\n"
   ]
  },
  {
   "cell_type": "code",
   "execution_count": 65,
   "metadata": {},
   "outputs": [
    {
     "name": "stdout",
     "output_type": "stream",
     "text": [
      "kaç gün boyunca böcek toplacak? 2\n",
      " toplanan böcek sayısını giriniz: 10\n",
      " toplanan böcek sayısını giriniz: 10\n",
      "2 GÜNDE TOPLANAN BÖCEK SAYISI: 20 adet\n"
     ]
    }
   ],
   "source": [
    "gün =int(input(\"kaç gün boyunca böcek toplacak? \"))\n",
    "toplam=0\n",
    "for bocek in range(gün):\n",
    "    bocek_sayisi=int((input(\" toplanan böcek sayısını giriniz: \")))\n",
    "    toplam+=bocek_sayisi\n",
    "print(gün,\"GÜNDE TOPLANAN BÖCEK SAYISI:\",toplam,\"adet\")\n",
    " "
   ]
  },
  {
   "cell_type": "code",
   "execution_count": 74,
   "metadata": {},
   "outputs": [
    {
     "name": "stdout",
     "output_type": "stream",
     "text": [
      "DAKİKA \t YAKILAN KALORİ\n",
      "10 \t 46.0\n",
      "15 \t 69.0\n",
      "20 \t 92.0\n",
      "25 \t 115.0\n",
      "30 \t 138.0\n"
     ]
    }
   ],
   "source": [
    "dakika_kalori=4.6\n",
    "yakilan=0\n",
    "print(\"DAKİKA \\t YAKILAN KALORİ\")\n",
    "for toplam in range(10,31,5):\n",
    "    yakilan=format(toplam*dakika_kalori, '.1f')\n",
    "    print(toplam ,'\\t', yakilan)"
   ]
  },
  {
   "cell_type": "code",
   "execution_count": 117,
   "metadata": {},
   "outputs": [
    {
     "ename": "SyntaxError",
     "evalue": "invalid syntax (<ipython-input-117-44257d7e6cc2>, line 5)",
     "output_type": "error",
     "traceback": [
      "\u001b[1;36m  File \u001b[1;32m\"<ipython-input-117-44257d7e6cc2>\"\u001b[1;36m, line \u001b[1;32m5\u001b[0m\n\u001b[1;33m    toplam+=harcama\u001b[0m\n\u001b[1;37m    ^\u001b[0m\n\u001b[1;31mSyntaxError\u001b[0m\u001b[1;31m:\u001b[0m invalid syntax\n"
     ]
    }
   ],
   "source": [
    "butce=float(input(\"aylık bütçenizi giriniz\"))\n",
    "toplam=0 \n",
    "for masraf in range(30): \n",
    "    harcama=float(input((\"günlük harcamayı giriniz:\")) \n",
    "    toplam+=harcama\n",
    "\n",
    "print(\"toplam harcamanız: \",toplam) \n",
    "if toplam>butce: \n",
    "    print(\"AYLIK BÜTÇENİZİ AŞTINIZ\") \n",
    "else:\n",
    "    print(\"AYLIK BÜTÇE AŞILMADI\")"
   ]
  },
  {
   "cell_type": "code",
   "execution_count": 119,
   "metadata": {},
   "outputs": [
    {
     "name": "stdout",
     "output_type": "stream",
     "text": [
      "bütçenizi giriniz100\n",
      "1.günün harcamasını giriniz40\n",
      "aylık birikiminiz 60.0\n",
      "2.günün harcamasını giriniz60\n",
      "bütçeyi aştınız\n",
      "toplam harcamanız 100.0\n"
     ]
    }
   ],
   "source": [
    "bütçe=float(input(\"bütçenizi giriniz\"))\n",
    "gün=0\n",
    "harcamatop=0\n",
    "for i in range(5):\n",
    "    gün+=1\n",
    "    harcama=float(input(\"{}.günün harcamasını giriniz\".format(gün)))\n",
    "    harcamatop+=harcama\n",
    "    if harcamatop<bütçe:\n",
    "        print(\"kalan\",bütçe-harcamatop)\n",
    "    else:\n",
    "        print(\"bütçeyi aştınız\")\n",
    "        break\n",
    "print(\"toplam harcamanız\", harcamatop)"
   ]
  },
  {
   "cell_type": "code",
   "execution_count": 20,
   "metadata": {},
   "outputs": [
    {
     "name": "stdout",
     "output_type": "stream",
     "text": [
      "SAATTEKİ HIZINIZI GİRİNİZ: 10\n",
      "SEYAHAT KAÇ SAAT SÜRECEK?5\n",
      "SAAT \t ALINAN YOL\n",
      "1 \t 10\n",
      "2 \t 20\n",
      "3 \t 30\n",
      "4 \t 40\n",
      "5 \t 50\n"
     ]
    }
   ],
   "source": [
    "hiz=int(input(\"SAATTEKİ HIZINIZI GİRİNİZ: \"))\n",
    "saat=int(input(\"SEYAHAT KAÇ SAAT SÜRECEK?\"))\n",
    "\n",
    "print(\"SAAT \\t ALINAN YOL\")\n",
    "for yol in range(1,saat+1) :\n",
    "    \n",
    "    alinan_yol =yol*hiz\n",
    "    print(yol,'\\t', alinan_yol)\n"
   ]
  },
  {
   "cell_type": "code",
   "execution_count": null,
   "metadata": {},
   "outputs": [],
   "source": [
    "toplam=0\n",
    "sayac=0\n",
    "yıl=0\n",
    "yil=int(input(\"yıl sayısını giriniz: \"))\n",
    "for yillik in range(yil):\n",
    "    yıl+=1\n",
    "    \n",
    "    for aylik in range(3):\n",
    "        sayac+=1\n",
    "        yagis=int(input(\" {}. yılın {}.ayının yağış miktarını giriniz: \".format(yıl,sayac)))\n",
    "        toplam=aylik*yagis\n",
    "        ortalama=format(toplam/yil, '.2f')\n",
    "    \n",
    "    print(\"yıllık yağış miktarı:\" ,toplam)\n",
    "    print(\"ortalama\",ortalama)\n",
    "    \n",
    "        "
   ]
  },
  {
   "cell_type": "code",
   "execution_count": 8,
   "metadata": {},
   "outputs": [
    {
     "name": "stdout",
     "output_type": "stream",
     "text": [
      "DERECE \t FAHRENHEIT\n",
      "0 C \t 32 F\n",
      "1 C \t 127 F\n",
      "2 C \t 222 F\n",
      "3 C \t 317 F\n",
      "4 C \t 412 F\n",
      "5 C \t 507 F\n",
      "6 C \t 602 F\n",
      "7 C \t 697 F\n",
      "8 C \t 792 F\n",
      "9 C \t 887 F\n",
      "10 C \t 982 F\n",
      "11 C \t 1077 F\n",
      "12 C \t 1172 F\n",
      "13 C \t 1267 F\n",
      "14 C \t 1362 F\n",
      "15 C \t 1457 F\n",
      "16 C \t 1552 F\n",
      "17 C \t 1647 F\n",
      "18 C \t 1742 F\n",
      "19 C \t 1837 F\n",
      "20 C \t 1932 F\n"
     ]
    }
   ],
   "source": [
    "print(\"DERECE \\t FAHRENHEIT\")\n",
    "for derece in range(0,21):\n",
    "    fahrenayt=95*derece+32\n",
    "    print(derece,\"C\" ,'\\t', fahrenayt,\"F\")\n",
    "    "
   ]
  },
  {
   "cell_type": "code",
   "execution_count": 29,
   "metadata": {},
   "outputs": [
    {
     "name": "stdout",
     "output_type": "stream",
     "text": [
      "hesaplanacak gün sayısını giriniz3\n",
      "GÜN \t KAZANILAN\n",
      "1 \t 1\n",
      "2 \t 3\n",
      "3 \t 7\n"
     ]
    }
   ],
   "source": [
    "toplam=0\n",
    "gun =int(input(\"hesaplanacak gün sayısını giriniz\"))\n",
    "print(\"GÜN \\t KAZANILAN\")\n",
    "for gunluk in range(gun):\n",
    "    miktar=2**gunluk\n",
    "    toplam+=miktar\n",
    "    print(gunluk+1,'\\t',toplam)\n",
    "   "
   ]
  },
  {
   "cell_type": "code",
   "execution_count": 53,
   "metadata": {},
   "outputs": [
    {
     "name": "stdout",
     "output_type": "stream",
     "text": [
      "pozitif bir sayı giriniz: 23\n",
      "pozitif bir sayı giriniz: 28\n",
      "pozitif bir sayı giriniz: -69\n",
      "toplam:  51.0\n",
      "pozitif bir sayı giriniz\n"
     ]
    }
   ],
   "source": [
    "toplam=0\n",
    "pozitif=float(input(\"pozitif bir sayı giriniz: \"))\n",
    "while pozitif>0 :\n",
    "    toplam=pozitif+toplam\n",
    "    pozitif=float(input(\"pozitif bir sayı giriniz: \"))    \n",
    "    \n",
    "print(\"toplam: \", toplam)\n",
    "print(\"pozitif bir sayı giriniz\")\n",
    "\n",
    "\n"
   ]
  },
  {
   "cell_type": "code",
   "execution_count": 74,
   "metadata": {},
   "outputs": [
    {
     "name": "stdout",
     "output_type": "stream",
     "text": [
      "YIL \t DENİZ SEVİYESİ\n",
      "1 \t 1.6\n",
      "2 \t 3.2\n",
      "3 \t 4.8\n",
      "4 \t 6.4\n",
      "5 \t 8.0\n",
      "6 \t 9.6\n",
      "7 \t 11.2\n",
      "8 \t 12.8\n",
      "9 \t 14.4\n",
      "10 \t 16.0\n",
      "11 \t 17.6\n",
      "12 \t 19.2\n",
      "13 \t 20.8\n",
      "14 \t 22.4\n",
      "15 \t 24.0\n",
      "16 \t 25.6\n",
      "17 \t 27.2\n",
      "18 \t 28.8\n",
      "19 \t 30.4\n",
      "20 \t 32.0\n",
      "21 \t 33.6\n",
      "22 \t 35.2\n",
      "23 \t 36.8\n",
      "24 \t 38.4\n",
      "25 \t 40.0\n"
     ]
    }
   ],
   "source": [
    "print(\"YIL \\t DENİZ SEVİYESİ\")\n",
    "for yukselis in range(1,26):\n",
    "    artıs=format(yukselis*1.6, '.1f')\n",
    "    print(yukselis,'\\t',artıs)\n"
   ]
  },
  {
   "cell_type": "code",
   "execution_count": 83,
   "metadata": {},
   "outputs": [
    {
     "name": "stdout",
     "output_type": "stream",
     "text": [
      "YIL \t YILLIK MAAŞ\n",
      "0 \t 8240.0\n",
      "1 \t 8487.2\n",
      "2 \t 8741.816\n",
      "3 \t 9004.07048\n",
      "4 \t 9274.1925944\n"
     ]
    }
   ],
   "source": [
    "toplam=8000\n",
    "print(\"YIL \\t YILLIK MAAŞ\")\n",
    "for maas in range(5):\n",
    "    toplam=toplam+toplam*0.03\n",
    "    print(maas,'\\t',toplam)\n",
    "    "
   ]
  },
  {
   "cell_type": "code",
   "execution_count": 14,
   "metadata": {},
   "outputs": [
    {
     "name": "stdout",
     "output_type": "stream",
     "text": [
      "faktoriyeli alınacak sayıyı giriniz: 15\n",
      "Grimiş olduğunuz sayının faktoriyeli: 1307674368000\n"
     ]
    }
   ],
   "source": [
    "\n",
    "n=int(input(\"faktoriyeli alınacak sayıyı giriniz: \"))\n",
    "while n<1:\n",
    "    n=int(input(\"pozitif tam sayı giriniz: \"))\n",
    "faktöriyel=1\n",
    "for sayi in range(1,n+1):\n",
    "    faktöriyel=faktöriyel*sayi\n",
    "\n",
    "print(\"Grimiş olduğunuz sayının faktoriyeli:\" , faktöriyel)\n"
   ]
  },
  {
   "cell_type": "code",
   "execution_count": 28,
   "metadata": {},
   "outputs": [
    {
     "name": "stdout",
     "output_type": "stream",
     "text": [
      "Başlangıçtaki organizma sayısını giriniz: 2\n",
      "Günlük artış miktarını giriniz: 30\n",
      "Hesaplanacak gün sayısını giriniz: 10\n",
      "GÜN \t NÜFUS\n",
      "----------------\n",
      "1 \t 2.6\n",
      "2 \t 3.38\n",
      "3 \t 4.394\n",
      "4 \t 5.7122\n",
      "5 \t 7.42586\n",
      "6 \t 9.653618\n",
      "7 \t 12.5497034\n",
      "8 \t 16.31461442\n",
      "9 \t 21.208998746000002\n",
      "10 \t 27.571698369800004\n"
     ]
    }
   ],
   "source": [
    "baslangic=float(input(\"Başlangıçtaki organizma sayısını giriniz: \"))\n",
    "gunluk=float(input(\"Günlük artış miktarını giriniz: \"))\n",
    "gun =int(input(\"Hesaplanacak gün sayısını giriniz: \"))\n",
    "artis=gunluk/100\n",
    "popülasyon=baslangic\n",
    "print(\"GÜN \\t NÜFUS\")\n",
    "print(\"----------------\")\n",
    "for hesap in range(1,gun+1):\n",
    "    \n",
    "    popülasyon=popülasyon+(artis*popülasyon)\n",
    "    print(hesap,'\\t', popülasyon)"
   ]
  }
 ],
 "metadata": {
  "kernelspec": {
   "display_name": "Python 3",
   "language": "python",
   "name": "python3"
  },
  "language_info": {
   "codemirror_mode": {
    "name": "ipython",
    "version": 3
   },
   "file_extension": ".py",
   "mimetype": "text/x-python",
   "name": "python",
   "nbconvert_exporter": "python",
   "pygments_lexer": "ipython3",
   "version": "3.8.3"
  }
 },
 "nbformat": 4,
 "nbformat_minor": 4
}
