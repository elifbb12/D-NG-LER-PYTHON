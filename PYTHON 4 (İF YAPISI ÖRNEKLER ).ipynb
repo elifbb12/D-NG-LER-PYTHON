{
 "cells": [
  {
   "cell_type": "code",
   "execution_count": 4,
   "metadata": {},
   "outputs": [
    {
     "name": "stdout",
     "output_type": "stream",
     "text": [
      "ilk skoru giriniz:  21\n",
      "ikinci skoru giriniz:  25\n",
      "üçüncü skoru giriniz:  41\n",
      "kaybettiniz\n"
     ]
    }
   ],
   "source": [
    "#İF YAPISI#\n",
    "\n",
    "birinci_skor= float(input(\"ilk skoru giriniz:  \"))\n",
    "ikinci_skor=float(input(\"ikinci skoru giriniz:  \"))\n",
    "ucuncu_skor= float(input(\"üçüncü skoru giriniz:  \"))\n",
    "ortalama=(birinci_skor + ikinci_skor + ucuncu_skor)/3\n",
    "if ortalama>=95:\n",
    "    print(\"kazandınız\")\n",
    "else:\n",
    "    print(\"kaybettiniz\")\n"
   ]
  },
  {
   "cell_type": "code",
   "execution_count": 6,
   "metadata": {},
   "outputs": [
    {
     "name": "stdout",
     "output_type": "stream",
     "text": [
      "sayı giriniz:120\n",
      "40\n"
     ]
    }
   ],
   "source": [
    "degisken=int(input(\"sayı giriniz:\"))\n",
    "if degisken >100:\n",
    "    degisken=40\n",
    "    print(degisken)\n",
    "else:\n",
    "    degisken = 20\n",
    "    print(degisken)\n",
    "    \n",
    " "
   ]
  },
  {
   "cell_type": "code",
   "execution_count": 20,
   "metadata": {},
   "outputs": [
    {
     "name": "stdout",
     "output_type": "stream",
     "text": [
      "1 ile 7 arasında bir sayı giriniz5\n",
      "cuma\n"
     ]
    }
   ],
   "source": [
    "gun=int(input(\"1 ile 7 arasında bir sayı giriniz:  \"))\n",
    "if gun==1:\n",
    "    print(\"pazartesi\")\n",
    "elif gun==2:\n",
    "     print(\"salı\")\n",
    "elif gun==3:\n",
    "     print(\"çarşamba\")\n",
    "elif gun == 4:\n",
    "        print(\"perşembe\")\n",
    "elif gun==5:\n",
    "     print(\"cuma\")\n",
    "elif gun==6:\n",
    "     print(\"cumartesi\")\n",
    "elif gun== 7:\n",
    "     print(\"pazar\")\n",
    "else:\n",
    "    print(\"hatalı giriş yaptınız\")\n"
   ]
  },
  {
   "cell_type": "code",
   "execution_count": 25,
   "metadata": {},
   "outputs": [
    {
     "name": "stdout",
     "output_type": "stream",
     "text": [
      "1.dikdörtgenin uzun kenarını giriniz12\n",
      "2.dikdörtgenin kısa kenarını giriniz14\n",
      "168.0\n",
      "dikdörtgen\n"
     ]
    }
   ],
   "source": [
    "kenar1=float(input(\"1.dikdörtgenin uzun kenarını giriniz\"))\n",
    "kenar2=float(input(\"2.dikdörtgenin kısa kenarını giriniz\"))\n",
    "alan=kenar1*kenar2\n",
    "print(alan)\n",
    "if kenar1==kenar2 :\n",
    "    print(\"kare\")\n",
    "else:\n",
    "    kenar1=!kenar2\n",
    "    print(\"dikdörtgen\")\n"
   ]
  },
  {
   "cell_type": "code",
   "execution_count": 40,
   "metadata": {},
   "outputs": [
    {
     "name": "stdout",
     "output_type": "stream",
     "text": [
      "yaşınızı giriniz:  -1\n",
      "bebek\n"
     ]
    }
   ],
   "source": [
    "yas=int(input(\"yaşınızı giriniz:  \"))\n",
    "if yas<=1:\n",
    "    print(\"bebek\")\n",
    "elif yas>1 and yas<13:\n",
    "    print(\"çocuk\")\n",
    "elif yas>=13 and yas<20:\n",
    "    print(\"genç\")\n",
    "elif yas>=20 :\n",
    "    print(\"yetişkin\")\n",
    "else:\n",
    "    print(\"hatalı giriş yaptınız\")"
   ]
  },
  {
   "cell_type": "code",
   "execution_count": 55,
   "metadata": {},
   "outputs": [
    {
     "name": "stdout",
     "output_type": "stream",
     "text": [
      "nesnenin kütlesini giriniz50\n",
      "orta ve hesaplanan ağırlık:  490.00000000000006\n"
     ]
    }
   ],
   "source": [
    "nesne=float(input(\"nesnenin kütlesini giriniz\"))\n",
    "agırlık=nesne*9.8\n",
    "if agırlık<100:\n",
    "    print(\"hafif ve hesaplanan ağırlık :  \", agırlık)\n",
    "elif agırlık>=100 and agırlık<=500:\n",
    "    print(\"orta ve hesaplanan ağırlık: \", agırlık)\n",
    "elif agırlık>500:\n",
    "    print(\"ağır ve hesaplanan ağırlık: \" ,agırlık)"
   ]
  },
  {
   "cell_type": "code",
   "execution_count": 1,
   "metadata": {},
   "outputs": [
    {
     "name": "stdout",
     "output_type": "stream",
     "text": [
      "gün tarihini giriniz: 12\n",
      "ay tarihini giriniz: 25\n",
      "gireceğiniz yılın son 2 hanesini giriniz: 14\n",
      "sihirli bir tarih değil\n"
     ]
    }
   ],
   "source": [
    "gun=int(input(\"gün tarihini giriniz: \"))\n",
    "ay=int(input(\"ay tarihini giriniz: \"))\n",
    "yıl=int(input(\"gireceğiniz yılın son 2 hanesini giriniz: \"))\n",
    "sihir=gun*ay\n",
    "if sihir==yıl :\n",
    "    print(\"sihirli bir tarih\",  sihir)\n",
    "else:\n",
    "    print(\"sihirli bir tarih değil\")"
   ]
  }
 ],
 "metadata": {
  "kernelspec": {
   "display_name": "Python 3",
   "language": "python",
   "name": "python3"
  },
  "language_info": {
   "codemirror_mode": {
    "name": "ipython",
    "version": 3
   },
   "file_extension": ".py",
   "mimetype": "text/x-python",
   "name": "python",
   "nbconvert_exporter": "python",
   "pygments_lexer": "ipython3",
   "version": "3.8.3"
  }
 },
 "nbformat": 4,
 "nbformat_minor": 4
}
